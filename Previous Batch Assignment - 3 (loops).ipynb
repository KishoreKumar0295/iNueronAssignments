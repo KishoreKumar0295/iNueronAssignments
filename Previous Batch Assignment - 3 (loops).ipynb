{
 "cells": [
  {
   "cell_type": "code",
   "execution_count": 1,
   "id": "5c3ae8fe",
   "metadata": {},
   "outputs": [
    {
     "data": {
      "text/plain": [
       "'\\nq1 :\\nineruon \\nineruon ineruon \\nineruon ineruon ineruon\\nineruon ineruon ineruon ineruon\\n'"
      ]
     },
     "execution_count": 1,
     "metadata": {},
     "output_type": "execute_result"
    }
   ],
   "source": [
    "'''\n",
    "q1 :\n",
    "ineruon \n",
    "ineruon ineruon \n",
    "ineruon ineruon ineruon\n",
    "ineruon ineruon ineruon ineruon\n",
    "'''"
   ]
  },
  {
   "cell_type": "code",
   "execution_count": 10,
   "id": "38cca0a7",
   "metadata": {},
   "outputs": [
    {
     "name": "stdout",
     "output_type": "stream",
     "text": [
      "iNeuron \n",
      "\n",
      "iNeuron iNeuron \n",
      "\n",
      "iNeuron iNeuron iNeuron \n",
      "\n",
      "iNeuron iNeuron iNeuron iNeuron \n",
      "\n"
     ]
    }
   ],
   "source": [
    "s = 4\n",
    "for i in range(s):\n",
    "    for j in range(0,i+1):\n",
    "        print('iNeuron',end=\" \")\n",
    "    print('\\n')"
   ]
  },
  {
   "cell_type": "code",
   "execution_count": null,
   "id": "173631a0",
   "metadata": {},
   "outputs": [],
   "source": [
    "'''       ineruon\n",
    "    ineruon      ineruon\n",
    "ineruon\t\tineruon \tineruon\n",
    "\tineruon\t\t ineruon\n",
    "\t\t  ineruon'''"
   ]
  },
  {
   "cell_type": "code",
   "execution_count": 157,
   "id": "bd6e4e1c",
   "metadata": {},
   "outputs": [
    {
     "name": "stdout",
     "output_type": "stream",
     "text": [
      "                        ineuron    \n",
      "                ineuron    ineuron    ineuron    \n",
      "        ineuron    ineuron    ineuron    ineuron    ineuron    \n",
      "                ineuron    ineuron    ineuron    \n",
      "                        ineuron    \n"
     ]
    }
   ],
   "source": [
    "n=3\n",
    "for i in range(n-1):\n",
    "    for j in range(i,n):\n",
    "        print(\"    \",end=\"    \")\n",
    "    for j in range(i):\n",
    "        print(\"ineuron\",end=\"    \")\n",
    "    for j in range(i+1):\n",
    "        print(\"ineuron\",end=\"    \")\n",
    "    print()\n",
    "for i in range(n):    \n",
    "    for j in range(i+1):\n",
    "        print(\"    \",end=\"    \")\n",
    "    for j in range(i,n-1):\n",
    "        print(\"ineuron\",end=\"    \")\n",
    "    for j in range(i,n):\n",
    "        print(\"ineuron\",end=\"    \")\n",
    "    print()"
   ]
  },
  {
   "cell_type": "code",
   "execution_count": 11,
   "id": "ae4122f2",
   "metadata": {},
   "outputs": [],
   "source": [
    "l = [[1,2,3,4] , (2,3,4,5,6) , (3,4,5,6,7) , set([23,4,5,45,4,4,5,45,45,4,5]) , {'k1' :\"sudh\" , \"k2\" : \"ineuron\",\"k3\":\n",
    "            \"kumar\" , 3:6 , 7:8} , [\"ineuron\" , \"data science \"]]\n"
   ]
  },
  {
   "cell_type": "code",
   "execution_count": 12,
   "id": "6fbb0ef2",
   "metadata": {},
   "outputs": [
    {
     "name": "stdout",
     "output_type": "stream",
     "text": [
      "[1, 2, 3, 4]\n",
      "['ineuron', 'data science ']\n"
     ]
    }
   ],
   "source": [
    "# q3 : Try to extract all the list entity \n",
    "for i in l:\n",
    "    if type(i)==list:\n",
    "        print(i)"
   ]
  },
  {
   "cell_type": "code",
   "execution_count": 13,
   "id": "c8ac873b",
   "metadata": {},
   "outputs": [
    {
     "name": "stdout",
     "output_type": "stream",
     "text": [
      "{'k1': 'sudh', 'k2': 'ineuron', 'k3': 'kumar', 3: 6, 7: 8}\n"
     ]
    }
   ],
   "source": [
    "# q4 : Try to extract all the dict enteties\n",
    "for i in l:\n",
    "    if type(i)==dict:\n",
    "        print(i)"
   ]
  },
  {
   "cell_type": "code",
   "execution_count": 14,
   "id": "9a725edd",
   "metadata": {},
   "outputs": [
    {
     "name": "stdout",
     "output_type": "stream",
     "text": [
      "(2, 3, 4, 5, 6)\n",
      "(3, 4, 5, 6, 7)\n"
     ]
    }
   ],
   "source": [
    "#q5 : Try to extract all the tuples entities\n",
    "for i in l:\n",
    "    if type(i)==tuple:\n",
    "        print(i)"
   ]
  },
  {
   "cell_type": "code",
   "execution_count": 22,
   "id": "6ad6efbf",
   "metadata": {},
   "outputs": [
    {
     "name": "stdout",
     "output_type": "stream",
     "text": [
      "1\n",
      "2\n",
      "3\n",
      "4\n",
      "2\n",
      "3\n",
      "4\n",
      "5\n",
      "6\n",
      "3\n",
      "4\n",
      "5\n",
      "6\n",
      "7\n",
      "45\n",
      "4\n",
      "5\n",
      "23\n",
      "3\n",
      "6\n",
      "7\n",
      "8\n"
     ]
    }
   ],
   "source": [
    "#q6 : Try to extract all the numerical data it may b a part of dict key and values \n",
    "l1=[]\n",
    "for i in l:\n",
    "    if type(i)==list or type(i)==tuple or type(i)==set:\n",
    "        for j in i:\n",
    "            if type(j)==int:\n",
    "                l1.append(j)\n",
    "                print(j)\n",
    "    if type(i)==dict:\n",
    "        for j,h in i.items():\n",
    "            if type(j)==int or type(h)==int:\n",
    "                l1.append(j)\n",
    "                l1.append(h)\n",
    "                print(j)\n",
    "                print(h)"
   ]
  },
  {
   "cell_type": "code",
   "execution_count": 23,
   "id": "05b2bf3c",
   "metadata": {},
   "outputs": [
    {
     "data": {
      "text/plain": [
       "[1, 2, 3, 4, 2, 3, 4, 5, 6, 3, 4, 5, 6, 7, 45, 4, 5, 23, 3, 6, 7, 8]"
      ]
     },
     "execution_count": 23,
     "metadata": {},
     "output_type": "execute_result"
    }
   ],
   "source": [
    "# q7 : Try to give summation of all the numeric data \n",
    "l1"
   ]
  },
  {
   "cell_type": "code",
   "execution_count": 24,
   "id": "aac95f3e",
   "metadata": {},
   "outputs": [
    {
     "data": {
      "text/plain": [
       "156"
      ]
     },
     "execution_count": 24,
     "metadata": {},
     "output_type": "execute_result"
    }
   ],
   "source": [
    "sum(l1)"
   ]
  },
  {
   "cell_type": "code",
   "execution_count": 33,
   "id": "47a36330",
   "metadata": {},
   "outputs": [
    {
     "name": "stdout",
     "output_type": "stream",
     "text": [
      "1\n",
      "3\n"
     ]
    }
   ],
   "source": [
    "# q8 : Try to filter out all the odd values out all numeric data which is a part of a list \n",
    "for i in l:\n",
    "    if type(i)==list:\n",
    "        for j in i:\n",
    "            if type(j) == int:\n",
    "                if j % 2 !=0:\n",
    "                    print(j)"
   ]
  },
  {
   "cell_type": "code",
   "execution_count": 201,
   "id": "1ee83c1e",
   "metadata": {},
   "outputs": [
    {
     "name": "stdout",
     "output_type": "stream",
     "text": [
      "ineuron\n",
      "ineuron\n"
     ]
    }
   ],
   "source": [
    "# q9 : Try to extract \"ineruon\" out of this data\n",
    "for i in l:\n",
    "    if type(i)==list:\n",
    "        if 'ineuron' in i:\n",
    "            print('ineuron')\n",
    "    if type(i)==dict:\n",
    "        for j in i.items():\n",
    "            if 'ineuron' in j:\n",
    "                print('ineuron')"
   ]
  },
  {
   "cell_type": "code",
   "execution_count": 112,
   "id": "4d86d01b",
   "metadata": {},
   "outputs": [
    {
     "name": "stdout",
     "output_type": "stream",
     "text": [
      "k3 : 1\n",
      "1 : 1\n",
      "2 : 2\n",
      "3 : 4\n",
      "4 : 4\n",
      "5 : 3\n",
      "6 : 3\n",
      "7 : 2\n",
      "kumar : 1\n",
      "k2 : 1\n",
      "8 : 1\n",
      "45 : 1\n",
      "sudh : 1\n",
      "k1 : 1\n",
      "ineuron : 2\n",
      "data science : 1\n",
      "23 : 1\n"
     ]
    }
   ],
   "source": [
    "# q10 :Try to find out a number of occurances of all the data \n",
    "l2=[]\n",
    "for i in l:\n",
    "    if type(i)==list or type(i)==tuple or type(i)==set:\n",
    "        for j in i:\n",
    "            l2.append(j)\n",
    "    if type(i)==dict:\n",
    "        for j,h in set(i.items()):\n",
    "            l2.append(j)\n",
    "            l2.append(h)\n",
    "for i in set(l2):\n",
    "    print(i,\":\",l2.count(i))\n"
   ]
  },
  {
   "cell_type": "code",
   "execution_count": 132,
   "id": "76227809",
   "metadata": {},
   "outputs": [
    {
     "ename": "TypeError",
     "evalue": "unsupported operand type(s) for +: 'int' and 'str'",
     "output_type": "error",
     "traceback": [
      "\u001b[1;31m---------------------------------------------------------------------------\u001b[0m",
      "\u001b[1;31mTypeError\u001b[0m                                 Traceback (most recent call last)",
      "\u001b[1;32m~\\AppData\\Local\\Temp\\ipykernel_1588\\1014597870.py\u001b[0m in \u001b[0;36m<module>\u001b[1;34m\u001b[0m\n\u001b[0;32m      2\u001b[0m \u001b[1;32mfor\u001b[0m \u001b[0mi\u001b[0m \u001b[1;32min\u001b[0m \u001b[0ml\u001b[0m\u001b[1;33m:\u001b[0m\u001b[1;33m\u001b[0m\u001b[1;33m\u001b[0m\u001b[0m\n\u001b[0;32m      3\u001b[0m     \u001b[1;32mif\u001b[0m \u001b[0mtype\u001b[0m\u001b[1;33m(\u001b[0m\u001b[0mi\u001b[0m\u001b[1;33m)\u001b[0m\u001b[1;33m==\u001b[0m\u001b[0mdict\u001b[0m\u001b[1;33m:\u001b[0m\u001b[1;33m\u001b[0m\u001b[1;33m\u001b[0m\u001b[0m\n\u001b[1;32m----> 4\u001b[1;33m         \u001b[0mprint\u001b[0m\u001b[1;33m(\u001b[0m\u001b[0msum\u001b[0m\u001b[1;33m(\u001b[0m\u001b[0mi\u001b[0m\u001b[1;33m.\u001b[0m\u001b[0mkeys\u001b[0m\u001b[1;33m(\u001b[0m\u001b[1;33m)\u001b[0m\u001b[1;33m)\u001b[0m\u001b[1;33m)\u001b[0m\u001b[1;33m\u001b[0m\u001b[1;33m\u001b[0m\u001b[0m\n\u001b[0m",
      "\u001b[1;31mTypeError\u001b[0m: unsupported operand type(s) for +: 'int' and 'str'"
     ]
    }
   ],
   "source": [
    "# q11 : Try to find out number of keys in dict element\n",
    "for i in l:\n",
    "    if type(i)==dict:\n",
    "        print(i.keys())\n",
    "        if j in list(i.keys()):\n",
    "            print(i.count(j))"
   ]
  },
  {
   "cell_type": "code",
   "execution_count": 150,
   "id": "098c2f0a",
   "metadata": {},
   "outputs": [
    {
     "name": "stdout",
     "output_type": "stream",
     "text": [
      "['k1', 'sudh', 'k2', 'ineuron', 'k3', 'kumar', ['ineuron', 'data science'], ['ineuron', 'data science']]\n"
     ]
    }
   ],
   "source": [
    "# q12 : Try to filter out all the string data \n",
    "l3=[]\n",
    "for i in l:\n",
    "    if type(i)==list:\n",
    "        for j in i:\n",
    "            if type(j)==str:\n",
    "                l3.append(i)\n",
    "    if type(i)==dict:\n",
    "        for j,h in i.items():\n",
    "            if type(j) == str or type(h)==str:\n",
    "                l3.append(j)\n",
    "                l3.append(h)\n",
    "print(l3)"
   ]
  },
  {
   "cell_type": "code",
   "execution_count": 209,
   "id": "58bf50c6",
   "metadata": {},
   "outputs": [
    {
     "name": "stdout",
     "output_type": "stream",
     "text": [
      "['k1', 'sudh', 'k2', 'ineuron', 'k3', 'kumar', ['ineuron', 'data science'], ['ineuron', 'data science']]\n"
     ]
    }
   ],
   "source": [
    "#q13 : Try to Find  out alphanum in data\n",
    "l4 = str(l3)\n",
    "if l4.isalnum:\n",
    "    print(l4)"
   ]
  },
  {
   "cell_type": "code",
   "execution_count": 196,
   "id": "eebd888d",
   "metadata": {},
   "outputs": [
    {
     "name": "stdout",
     "output_type": "stream",
     "text": [
      "2\n",
      "4\n",
      "6\n",
      "8\n",
      "4\n",
      "6\n",
      "8\n",
      "10\n",
      "12\n",
      "6\n",
      "8\n",
      "10\n",
      "12\n",
      "14\n",
      "90\n",
      "8\n",
      "10\n",
      "46\n",
      "[1, 2, 3, 4, 2, 3, 4, 5, 6, 3, 4, 5, 6, 7, 45, 4, 5, 23]\n"
     ]
    }
   ],
   "source": [
    "#q14 : Try to find out multiplication of all numeric value in  the individual collection inside dataset \n",
    "l5=[]\n",
    "for i in l:\n",
    "    if type(i)==list or type(i)==tuple or type(i)==set:\n",
    "        for j in i:\n",
    "            if type(j)==int:\n",
    "                l5.append(j)\n",
    "for i in l5:\n",
    "    print(i*2)\n",
    "print(l5)"
   ]
  },
  {
   "cell_type": "code",
   "execution_count": 199,
   "id": "8449f889",
   "metadata": {},
   "outputs": [],
   "source": [
    "#q15 : Try to unwrape all the collection inside collection and create a flat list \n",
    "l6=[]\n",
    "for i in l:\n",
    "    if type(i)==list or type(i)==tuple or type(i)==set:\n",
    "        for j in i:\n",
    "            l6.append(j)\n",
    "    if type(i)==dict:\n",
    "        for j,h in set(i.items()):\n",
    "            l6.append(j)\n",
    "            l6.append(h)"
   ]
  },
  {
   "cell_type": "code",
   "execution_count": 200,
   "id": "d97fe165",
   "metadata": {},
   "outputs": [
    {
     "data": {
      "text/plain": [
       "[1,\n",
       " 2,\n",
       " 3,\n",
       " 4,\n",
       " 2,\n",
       " 3,\n",
       " 4,\n",
       " 5,\n",
       " 6,\n",
       " 3,\n",
       " 4,\n",
       " 5,\n",
       " 6,\n",
       " 7,\n",
       " 45,\n",
       " 4,\n",
       " 5,\n",
       " 23,\n",
       " 'k3',\n",
       " 'kumar',\n",
       " 'k2',\n",
       " 'ineuron',\n",
       " 3,\n",
       " 6,\n",
       " 'k1',\n",
       " 'sudh',\n",
       " 7,\n",
       " 8,\n",
       " 'ineuron',\n",
       " 'data science']"
      ]
     },
     "execution_count": 200,
     "metadata": {},
     "output_type": "execute_result"
    }
   ],
   "source": [
    "l6"
   ]
  },
  {
   "cell_type": "code",
   "execution_count": null,
   "id": "bdc46630",
   "metadata": {},
   "outputs": [],
   "source": []
  }
 ],
 "metadata": {
  "kernelspec": {
   "display_name": "Python 3 (ipykernel)",
   "language": "python",
   "name": "python3"
  },
  "language_info": {
   "codemirror_mode": {
    "name": "ipython",
    "version": 3
   },
   "file_extension": ".py",
   "mimetype": "text/x-python",
   "name": "python",
   "nbconvert_exporter": "python",
   "pygments_lexer": "ipython3",
   "version": "3.9.13"
  }
 },
 "nbformat": 4,
 "nbformat_minor": 5
}
