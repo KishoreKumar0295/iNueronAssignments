{
 "cells": [
  {
   "cell_type": "code",
   "execution_count": null,
   "id": "f6249663",
   "metadata": {},
   "outputs": [],
   "source": [
    "s = \"this is My First Python programming class and i am learNING python string and its function\"\n",
    "1 . Try to extract data from index one to index 300 with a jump of 3 \n",
    "2. Try to reverse a string without using reverse function \n",
    "3. Try to split a string after conversion of entire string in uppercase \n",
    "4. try to convert the whole string into lower case \n",
    "5 . Try to capitalize the whole string \n",
    "6 . Write a diference between isalnum() and isalpha()\n",
    "7. Try to give an example of expand tab\n",
    "8 . Give an example of strip , lstrip and rstrip \n",
    "9.  Replace a string charecter by another charector by taking your own example \n",
    "\"sudhanshu\"\n",
    "10 . Try  to give a defination of string center function with and exmple \n",
    "11 . Write your own definition of compiler and interpretor without copy paste form internet in your own language\n",
    "12 . Python is a interpreted of compiled language give a clear ans with your understanding \n",
    "13 . Try to write a usecase of python with your understanding .\n",
    "\n",
    "\n",
    "you have to send a jupyter notebook to shivan@ineuron.ai before next saturday class 21st of may . \n"
   ]
  },
  {
   "cell_type": "code",
   "execution_count": 1,
   "id": "cedd1f32",
   "metadata": {},
   "outputs": [],
   "source": [
    "# 1 . Try to extract data from index one to index 300 with a jump of 3 \n",
    "s = \"this is My First Python programming class and i am learNING python string and its function\""
   ]
  },
  {
   "cell_type": "code",
   "execution_count": 3,
   "id": "a44dc249",
   "metadata": {},
   "outputs": [
    {
     "data": {
      "text/plain": [
       "'syityopgmncsa alrNph rgni ni'"
      ]
     },
     "execution_count": 3,
     "metadata": {},
     "output_type": "execute_result"
    }
   ],
   "source": [
    "s[6:300:3]"
   ]
  },
  {
   "cell_type": "code",
   "execution_count": 4,
   "id": "d20237da",
   "metadata": {},
   "outputs": [
    {
     "data": {
      "text/plain": [
       "'noitcnuf sti dna gnirts nohtyp GNINrael ma i dna ssalc gnimmargorp nohtyP tsriF yM si siht'"
      ]
     },
     "execution_count": 4,
     "metadata": {},
     "output_type": "execute_result"
    }
   ],
   "source": [
    "#2. Try to reverse a string without using reverse function \n",
    "s[::-1]"
   ]
  },
  {
   "cell_type": "code",
   "execution_count": 5,
   "id": "9bf8537c",
   "metadata": {},
   "outputs": [
    {
     "data": {
      "text/plain": [
       "'THIS IS MY FIRST PYTHON PROGRAMMING CLASS AND I AM LEARNING PYTHON STRING AND ITS FUNCTION'"
      ]
     },
     "execution_count": 5,
     "metadata": {},
     "output_type": "execute_result"
    }
   ],
   "source": [
    "#3. Try to split a string after conversion of entire string in uppercase \n",
    "s.upper()"
   ]
  },
  {
   "cell_type": "code",
   "execution_count": 6,
   "id": "3bda4794",
   "metadata": {},
   "outputs": [
    {
     "data": {
      "text/plain": [
       "'this is my first python programming class and i am learning python string and its function'"
      ]
     },
     "execution_count": 6,
     "metadata": {},
     "output_type": "execute_result"
    }
   ],
   "source": [
    "#4. try to convert the whole string into lower case \n",
    "s.lower()"
   ]
  },
  {
   "cell_type": "code",
   "execution_count": 7,
   "id": "9ea31293",
   "metadata": {},
   "outputs": [
    {
     "data": {
      "text/plain": [
       "'This is my first python programming class and i am learning python string and its function'"
      ]
     },
     "execution_count": 7,
     "metadata": {},
     "output_type": "execute_result"
    }
   ],
   "source": [
    "#5 . Try to capitalize the whole string \n",
    "s.capitalize()"
   ]
  },
  {
   "cell_type": "raw",
   "id": "acd6de18",
   "metadata": {},
   "source": [
    "6 . Write a diference between isalnum() and isalpha()\n",
    "\n",
    "isalnum: it is or condition based on this conditon it will check the string contains numerical or alphabetical atleas one then it will give output as True\n",
    "Example:\n",
    "s = \"Sudhanshu123\"\n",
    "O/p:-True\n",
    "\n",
    "isalpha:it check the string is aplhabitcal or not if it is alphabitical then it will give the output as Treu\n",
    "\n",
    "Example:\n",
    "s1 = \"123456\"\n",
    "O/p:-True\n",
    "\n"
   ]
  },
  {
   "cell_type": "code",
   "execution_count": 9,
   "id": "2137578e",
   "metadata": {},
   "outputs": [
    {
     "data": {
      "text/plain": [
       "'Kishore Kumar   is      my      first   progarming      class'"
      ]
     },
     "execution_count": 9,
     "metadata": {},
     "output_type": "execute_result"
    }
   ],
   "source": [
    "#7. Try to give an example of expand tab\n",
    "#here expand tabs replace the \\t with tabspace\n",
    "k= 'Kishore\\tKumar\\tis\\tmy\\tfirst\\tprogarming\\tclass'\n",
    "k.expandtabs()"
   ]
  },
  {
   "cell_type": "code",
   "execution_count": 11,
   "id": "2a76079a",
   "metadata": {},
   "outputs": [
    {
     "data": {
      "text/plain": [
       "'Kishore   Kumar'"
      ]
     },
     "execution_count": 11,
     "metadata": {},
     "output_type": "execute_result"
    }
   ],
   "source": [
    "#8 . Give an example of strip , lstrip and rstrip \n",
    "#strip:- it removes the space first and last not in between the string\n",
    "k='   Kishore   Kumar   '\n",
    "k.strip()"
   ]
  },
  {
   "cell_type": "code",
   "execution_count": 12,
   "id": "8507807a",
   "metadata": {},
   "outputs": [
    {
     "data": {
      "text/plain": [
       "'Kishore   Kumar   '"
      ]
     },
     "execution_count": 12,
     "metadata": {},
     "output_type": "execute_result"
    }
   ],
   "source": [
    "#lstrip:-removes the left side space in a string\n",
    "k.lstrip()"
   ]
  },
  {
   "cell_type": "code",
   "execution_count": 13,
   "id": "f923b0fb",
   "metadata": {},
   "outputs": [
    {
     "data": {
      "text/plain": [
       "'   Kishore   Kumar'"
      ]
     },
     "execution_count": 13,
     "metadata": {},
     "output_type": "execute_result"
    }
   ],
   "source": [
    "#rstrip:- removes the right side space in a string\n",
    "k.rstrip()"
   ]
  },
  {
   "cell_type": "code",
   "execution_count": 16,
   "id": "5c9731a4",
   "metadata": {},
   "outputs": [],
   "source": [
    "#9.  Replace a string charecter by another charector by taking your own example \n",
    "# \"sudhanshu\" here i want to replace first small s to capital s\n",
    "s=\"sudhanshu\"\n"
   ]
  },
  {
   "cell_type": "code",
   "execution_count": 17,
   "id": "c5b65ca2",
   "metadata": {},
   "outputs": [
    {
     "data": {
      "text/plain": [
       "'sudhanshu'"
      ]
     },
     "execution_count": 17,
     "metadata": {},
     "output_type": "execute_result"
    }
   ],
   "source": [
    "s"
   ]
  },
  {
   "cell_type": "code",
   "execution_count": 18,
   "id": "4d4077b9",
   "metadata": {},
   "outputs": [
    {
     "data": {
      "text/plain": [
       "'Sudhanshu'"
      ]
     },
     "execution_count": 18,
     "metadata": {},
     "output_type": "execute_result"
    }
   ],
   "source": [
    "s.replace('s',\"S\",1)"
   ]
  },
  {
   "cell_type": "code",
   "execution_count": 22,
   "id": "5380964a",
   "metadata": {},
   "outputs": [
    {
     "data": {
      "text/plain": [
       "'$$$$$$$$$$$$$$$$ Kishore   Kumar $$$$$$$$$$$$$$$$$'"
      ]
     },
     "execution_count": 22,
     "metadata": {},
     "output_type": "execute_result"
    }
   ],
   "source": [
    "# 10 . Try  to give a defination of string center function with and exmple \n",
    "'''\n",
    "The string center function alocate a given string into the alocated space(number of space in that function) \n",
    "and it is fill with rest of space with given charector\n",
    "\n",
    "'''\n",
    "k=' Kishore   Kumar '\n",
    "\n",
    "k.center(50,'$')"
   ]
  },
  {
   "cell_type": "raw",
   "id": "78678afd",
   "metadata": {},
   "source": [
    "# 11 . Write your own definition of compiler and interpretor without copy paste form internet in your own language\n",
    "'''\n",
    "compilor is converts the whole program at once from high level language to low level language\n",
    "Interpretor is converts a program into line by line from high level language to intermediat language and it has pre compiled codes\n",
    "'''"
   ]
  },
  {
   "cell_type": "raw",
   "id": "dd65c850",
   "metadata": {},
   "source": [
    "# 12 . Python is a interpreted of compiled language give a clear ans with your understanding \n",
    "'''\n",
    "Python is compiler and intrepreted as well \n",
    "Python first compile the whole programing code and then execute it line by line\n",
    "but when code is executed the complire will automatically deleted\n",
    "'''"
   ]
  },
  {
   "cell_type": "code",
   "execution_count": 25,
   "id": "73800e9d",
   "metadata": {},
   "outputs": [
    {
     "data": {
      "text/plain": [
       "'\\nPython is used in all over the coding industry \\nwhy because it is simple english language code and compare to other coding plat forms it has very less number of codes\\nso this is the reason it is used in all over the coding industry\\n\\nit is used in:\\n1 web scraping\\n2 web development\\n3 game development\\n4 data science\\n5 mechine learning\\n6 artificial intelligence\\n7 software development....etc\\n\\n\\n'"
      ]
     },
     "execution_count": 25,
     "metadata": {},
     "output_type": "execute_result"
    }
   ],
   "source": [
    "# 13 . Try to write a usecase of python with your understanding .\n",
    "'''\n",
    "Python is used in all over the coding industry \n",
    "why because it is simple english language code and compare to other coding plat forms it has very less number of codes\n",
    "so this is the reason it is used in all over the coding industry\n",
    "\n",
    "it is used in:\n",
    "1 web scraping\n",
    "2 web development\n",
    "3 game development\n",
    "4 data science\n",
    "5 mechine learning\n",
    "6 artificial intelligence\n",
    "7 software development....etc\n",
    "\n",
    "\n",
    "'''"
   ]
  },
  {
   "cell_type": "code",
   "execution_count": null,
   "id": "f240189a",
   "metadata": {},
   "outputs": [],
   "source": []
  },
  {
   "cell_type": "code",
   "execution_count": null,
   "id": "8ad121dc",
   "metadata": {},
   "outputs": [],
   "source": []
  }
 ],
 "metadata": {
  "kernelspec": {
   "display_name": "Python 3 (ipykernel)",
   "language": "python",
   "name": "python3"
  },
  "language_info": {
   "codemirror_mode": {
    "name": "ipython",
    "version": 3
   },
   "file_extension": ".py",
   "mimetype": "text/x-python",
   "name": "python",
   "nbconvert_exporter": "python",
   "pygments_lexer": "ipython3",
   "version": "3.9.13"
  }
 },
 "nbformat": 4,
 "nbformat_minor": 5
}
